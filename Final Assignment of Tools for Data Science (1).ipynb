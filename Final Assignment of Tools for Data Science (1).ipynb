{
  "metadata": {
    "language_info": {
      "codemirror_mode": {
        "name": "python",
        "version": 3
      },
      "file_extension": ".py",
      "mimetype": "text/x-python",
      "name": "python",
      "nbconvert_exporter": "python",
      "pygments_lexer": "ipython3",
      "version": "3.8"
    },
    "kernelspec": {
      "name": "python",
      "display_name": "Python (Pyodide)",
      "language": "python"
    }
  },
  "nbformat_minor": 4,
  "nbformat": 4,
  "cells": [
    {
      "cell_type": "markdown",
      "source": "# Introduction",
      "metadata": {}
    },
    {
      "cell_type": "markdown",
      "source": "# Data Science languages",
      "metadata": {}
    },
    {
      "cell_type": "markdown",
      "source": "1. Python \n2. SQL (Structured Query Language)\n3. R Studio\n4. Julia\n5. JavaScript\n6. Scala\n7. Java\n8. Go\n9. Scala\n10. Swift",
      "metadata": {}
    },
    {
      "cell_type": "markdown",
      "source": "# List for Data Science Libraries",
      "metadata": {}
    },
    {
      "cell_type": "markdown",
      "source": "NumPy: A fundamental library for numerical computing, providing support for large, multi-dimensional arrays and matrices, along with a collection of mathematical functions. It serves as a foundation for many other libraries.\n\nPandas: A powerful library for data manipulation and analysis, offering data structures like DataFrames to efficiently handle structured data, as well as functions for data cleaning, merging, reshaping, and more.\n\nMatplotlib: A comprehensive plotting library for creating static, animated, and interactive visualizations in Python. It provides a wide range of plots, including line plots, bar plots, scatter plots, histograms, and more.\n\nSeaborn: A higher-level visualization library built on top of Matplotlib, providing a more aesthetically pleasing and simplified interface for creating statistical graphics. It is particularly useful for visualizing relationships and patterns in data.\n\nscikit-learn: A popular machine learning library that offers a wide range of supervised and unsupervised learning algorithms, as well as tools for model evaluation, preprocessing, feature selection, and more.\n\nTensorFlow: A powerful open-source library for numerical computation and machine learning, with a particular focus on deep learning. It allows the creation and training of complex neural networks.\n\nPyTorch: Another widely used open-source library for deep learning and numerical computation. It provides a dynamic computation graph and is known for its flexibility and ease of use.\n\nKeras: A high-level deep learning library that acts as an interface to other deep learning frameworks like TensorFlow and Theano. It simplifies the process of building and training neural networks.\n\nSciPy: A library that builds on top of NumPy and provides additional numerical algorithms and tools for scientific computing. It includes modules for optimization, linear algebra, integration, interpolation, signal processing, and more.\n\nStatsmodels: A library focused on statistical modeling, hypothesis testing, and statistical exploration of data. It offers a wide range of statistical models and methods for regression, time series analysis, survival analysis, and more.\n\nThese are just a few examples of the many libraries available for data science in Python. The choice of libraries will depend on the specific tasks and requirements of your data science projects. ",
      "metadata": {}
    },
    {
      "cell_type": "markdown",
      "source": "| Tool           | Description                                       |\n|----------------|---------------------------------------------------|\n| NumPy          | Numerical computing library for arrays and matrices|\n| Pandas         | Data manipulation and analysis library             |\n| Matplotlib     | Plotting library for creating visualizations       |\n| Seaborn        | Higher-level visualization library                 |\n| scikit-learn   | Machine learning library                           |\n| TensorFlow     | Deep learning and numerical computation library     |\n| PyTorch        | Deep learning library                              |\n| Keras          | High-level deep learning library                    |\n| SciPy          | Library for scientific computing                   |\n| Statsmodels    | Statistical modeling and hypothesis testing library |",
      "metadata": {}
    },
    {
      "cell_type": "markdown",
      "source": "In mathematics, arithmetic expressions are used to represent mathematical computations. They consist of operators and operands, with various rules governing their evaluation.\n",
      "metadata": {}
    },
    {
      "cell_type": "code",
      "source": "2 + 3",
      "metadata": {
        "trusted": true
      },
      "execution_count": 9,
      "outputs": [
        {
          "execution_count": 9,
          "output_type": "execute_result",
          "data": {
            "text/plain": "5"
          },
          "metadata": {}
        }
      ]
    },
    {
      "cell_type": "code",
      "source": "10*3",
      "metadata": {
        "trusted": true
      },
      "execution_count": 10,
      "outputs": [
        {
          "execution_count": 10,
          "output_type": "execute_result",
          "data": {
            "text/plain": "30"
          },
          "metadata": {}
        }
      ]
    },
    {
      "cell_type": "code",
      "source": "3456+72874834",
      "metadata": {
        "trusted": true
      },
      "execution_count": 11,
      "outputs": [
        {
          "execution_count": 11,
          "output_type": "execute_result",
          "data": {
            "text/plain": "72878290"
          },
          "metadata": {}
        }
      ]
    },
    {
      "cell_type": "code",
      "source": "# Convert minutes to hours\nminutes = 120\nhours = minutes / 60\n\n# Display the result\nprint(f\"{minutes} minutes is equal to {hours} hours.\")",
      "metadata": {
        "trusted": true
      },
      "execution_count": 12,
      "outputs": [
        {
          "name": "stdout",
          "text": "120 minutes is equal to 2.0 hours.\n",
          "output_type": "stream"
        }
      ]
    },
    {
      "cell_type": "markdown",
      "source": "Objectives:\n\n- Understand the fundamental concepts of data science\n- Learn various data preprocessing techniques\n- Gain proficiency in data visualization using Matplotlib and Seaborn\n- Master the application of machine learning algorithms with scikit-learn\n- Acquire knowledge of deep learning frameworks such as TensorFlow and PyTorch\n- Develop skills in exploratory data analysis and statistical modeling\n- Apply data science techniques to real-world datasets",
      "metadata": {}
    },
    {
      "cell_type": "markdown",
      "source": "**Author: Merve A. E**",
      "metadata": {}
    },
    {
      "cell_type": "code",
      "source": "",
      "metadata": {},
      "execution_count": null,
      "outputs": []
    }
  ]
}